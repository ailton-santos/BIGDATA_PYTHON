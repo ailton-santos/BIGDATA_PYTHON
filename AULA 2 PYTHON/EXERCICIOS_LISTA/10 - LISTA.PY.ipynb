{
 "cells": [
  {
   "cell_type": "code",
   "execution_count": 2,
   "id": "1366d6f7",
   "metadata": {},
   "outputs": [],
   "source": [
    "#10. Faça uma função que receba 2 parâmetros: o preço de custo de um produto e seu percentual de lucro.\n",
    "#Calcule e retorne seu preço de venda:\n",
    "#Exemplo:Valor do produto: 500,00 Percentual de Lucro: 30  O preço de venda desse produto é: \n",
    "#R$ 650"
   ]
  },
  {
   "cell_type": "code",
   "execution_count": 10,
   "id": "c0bee07e",
   "metadata": {},
   "outputs": [
    {
     "name": "stdout",
     "output_type": "stream",
     "text": [
      "Digite o preço do custo do produto : 1000\n",
      "Digite o valor do percentual de lucro desse produto : 10\n",
      "O seu preço de vendas é : 1100.0\n"
     ]
    }
   ],
   "source": [
    "def lucro( valor, markup):\n",
    "  \n",
    "    \n",
    "    vlucro = float(valor * (markup/100) + valor)\n",
    "    print(f\"O seu preço de vendas é : {vlucro}\")\n",
    "    \n",
    "A = float(input(\"Digite o preço do custo do produto : \"))\n",
    "B = float(input(\"Digite o valor do percentual de lucro desse produto : \"))\n",
    "\n",
    "    \n",
    "lucro(A, B)\n",
    "    "
   ]
  },
  {
   "cell_type": "code",
   "execution_count": null,
   "id": "ae0aeb56",
   "metadata": {},
   "outputs": [],
   "source": []
  }
 ],
 "metadata": {
  "kernelspec": {
   "display_name": "Python 3 (ipykernel)",
   "language": "python",
   "name": "python3"
  },
  "language_info": {
   "codemirror_mode": {
    "name": "ipython",
    "version": 3
   },
   "file_extension": ".py",
   "mimetype": "text/x-python",
   "name": "python",
   "nbconvert_exporter": "python",
   "pygments_lexer": "ipython3",
   "version": "3.9.7"
  }
 },
 "nbformat": 4,
 "nbformat_minor": 5
}
