{
 "cells": [
  {
   "cell_type": "code",
   "execution_count": 6,
   "id": "c3f43fa8",
   "metadata": {},
   "outputs": [
    {
     "name": "stdout",
     "output_type": "stream",
     "text": [
      "Digite a dimenção da base do triangulo em metros:20\n",
      "Digite a dimenção da altura do triangulo em metros:20\n",
      " O valor da altura : 20.0 m\n",
      " O valor da altura : 20.0 m\n",
      " O valor da area é igual : 200.0 m²\n"
     ]
    }
   ],
   "source": [
    "#Faça uma função que receba a base e a altura de um triângulo.\n",
    "#Calcule e retorne sua área através da fórmula:\n",
    "#A = (b*h)/2\n",
    "\n",
    "def triangulo(b, h):\n",
    "\n",
    "    Area = (b*h)/2\n",
    "    \n",
    "    print(f\" O valor da base : {b} m\")\n",
    "    print(f\" O valor da altura : {h} m\")\n",
    "    print(f\" O valor da area é igual : {Area} m²\")\n",
    "    \n",
    "    \n",
    "b = float(input(\"Digite a dimenção da base do triangulo em metros:\"))\n",
    "h = float(input(\"Digite a dimenção da altura do triangulo em metros:\")) \n",
    "          \n",
    "triangulo(b, h)\n",
    "    \n"
   ]
  },
  {
   "cell_type": "code",
   "execution_count": null,
   "id": "19a096a2",
   "metadata": {},
   "outputs": [],
   "source": []
  },
  {
   "cell_type": "code",
   "execution_count": null,
   "id": "fc13f976",
   "metadata": {},
   "outputs": [],
   "source": []
  }
 ],
 "metadata": {
  "kernelspec": {
   "display_name": "Python 3 (ipykernel)",
   "language": "python",
   "name": "python3"
  },
  "language_info": {
   "codemirror_mode": {
    "name": "ipython",
    "version": 3
   },
   "file_extension": ".py",
   "mimetype": "text/x-python",
   "name": "python",
   "nbconvert_exporter": "python",
   "pygments_lexer": "ipython3",
   "version": "3.9.7"
  }
 },
 "nbformat": 4,
 "nbformat_minor": 5
}
