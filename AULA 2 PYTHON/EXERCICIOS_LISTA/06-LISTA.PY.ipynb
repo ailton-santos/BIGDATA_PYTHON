{
 "cells": [
  {
   "cell_type": "code",
   "execution_count": 1,
   "id": "1c6f5e6f",
   "metadata": {},
   "outputs": [],
   "source": [
    "# 6. Escreva uma função que receba como parâmetros uma distância percorrida (km) e um tempo(horas). \n",
    "# Retorne a velocidade média (km/h)."
   ]
  },
  {
   "cell_type": "code",
   "execution_count": 4,
   "id": "2a3f5939",
   "metadata": {},
   "outputs": [
    {
     "name": "stdout",
     "output_type": "stream",
     "text": [
      "informe a distancia percorida em kilometros ?1\n",
      "informe o tempo percorrido nessa distancia em horas ?1\n",
      "A velocidade calculada é de : 1.0 km/h\n"
     ]
    }
   ],
   "source": [
    "def vel(km, temp):\n",
    "    velocidade = km/temp\n",
    "    print(f\"A velocidade calculada é de : {velocidade} km/h\")\n",
    "    \n",
    "km = float(input(\"informe a distancia percorida em kilometros ?\"))\n",
    "temp = float(input(\"informe o tempo percorrido nessa distancia em horas ?\"))\n",
    "vel(km,temp)"
   ]
  },
  {
   "cell_type": "code",
   "execution_count": null,
   "id": "23b274c1",
   "metadata": {},
   "outputs": [],
   "source": []
  }
 ],
 "metadata": {
  "kernelspec": {
   "display_name": "Python 3 (ipykernel)",
   "language": "python",
   "name": "python3"
  },
  "language_info": {
   "codemirror_mode": {
    "name": "ipython",
    "version": 3
   },
   "file_extension": ".py",
   "mimetype": "text/x-python",
   "name": "python",
   "nbconvert_exporter": "python",
   "pygments_lexer": "ipython3",
   "version": "3.9.7"
  }
 },
 "nbformat": 4,
 "nbformat_minor": 5
}
