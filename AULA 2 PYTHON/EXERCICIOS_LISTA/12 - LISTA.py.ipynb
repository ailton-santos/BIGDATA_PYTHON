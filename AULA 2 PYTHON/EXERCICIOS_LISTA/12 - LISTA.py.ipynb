{
 "cells": [
  {
   "cell_type": "code",
   "execution_count": 1,
   "id": "9a5c9aa7",
   "metadata": {},
   "outputs": [],
   "source": [
    "#12. Faça uma função que receba o raio de uma circunferência.\n",
    "#Calcule e retorne sua área através da fórmula:\n",
    "#A=π*raio²"
   ]
  },
  {
   "cell_type": "code",
   "execution_count": 9,
   "id": "48af76fc",
   "metadata": {},
   "outputs": [
    {
     "name": "stdout",
     "output_type": "stream",
     "text": [
      "167.87445919648954\n"
     ]
    }
   ],
   "source": [
    "import math \n",
    "\n",
    "def circ(raio):\n",
    "    \n",
    "    area = float(math.pi * raio**2)\n",
    "    \n",
    "    print(area)\n",
    "\n",
    "\n",
    "circ(7.31)"
   ]
  },
  {
   "cell_type": "code",
   "execution_count": null,
   "id": "7bf0deca",
   "metadata": {},
   "outputs": [],
   "source": []
  }
 ],
 "metadata": {
  "kernelspec": {
   "display_name": "Python 3 (ipykernel)",
   "language": "python",
   "name": "python3"
  },
  "language_info": {
   "codemirror_mode": {
    "name": "ipython",
    "version": 3
   },
   "file_extension": ".py",
   "mimetype": "text/x-python",
   "name": "python",
   "nbconvert_exporter": "python",
   "pygments_lexer": "ipython3",
   "version": "3.9.7"
  }
 },
 "nbformat": 4,
 "nbformat_minor": 5
}
